{
 "cells": [
  {
   "cell_type": "markdown",
   "metadata": {},
   "source": [
    "## Chapter2 LAB"
   ]
  },
  {
   "cell_type": "markdown",
   "metadata": {},
   "source": [
    "### LAB 2-1 대화식 모드에서 출력하기\n",
    "다음의 코드를 입력해 보고 그 출력 결과를 _ 부분에 적으시오"
   ]
  },
  {
   "cell_type": "code",
   "execution_count": 17,
   "metadata": {},
   "outputs": [
    {
     "name": "stdout",
     "output_type": "stream",
     "text": [
      "나의 이름은 : 홍길동\n",
      "나의 나이는 : 27\n",
      "나의 키는 179 cm 입니다.\n",
      "10 + 20 = 30\n",
      "10 * 20 = 200\n"
     ]
    }
   ],
   "source": [
    "# 2-1 대화식 모드에서 출력하기\n",
    "# 1. 다음의 코드를 입력해 보고 그 출력 결과를 _ 부분에 적으시오\n",
    "print('나의 이름은 :', '홍길동')\n",
    "print('나의 나이는 :', 27)\n",
    "print('나의 키는', 179, 'cm 입니다.')\n",
    "print('10 + 20 =', 10 + 20)\n",
    "print('10 * 20 =', 10 * 20)"
   ]
  },
  {
   "cell_type": "markdown",
   "metadata": {},
   "source": [
    "### LAB 2-4 : 다음 코드를 입력해 보고 그 출력결과를 밑줄 부분에 적으시오."
   ]
  },
  {
   "cell_type": "code",
   "execution_count": 18,
   "metadata": {},
   "outputs": [
    {
     "name": "stdout",
     "output_type": "stream",
     "text": [
      "나의 이름은 : 전우치\n",
      "나의 나이는 : 27\n",
      "나의 키는 179 cm 입니다.\n",
      "10 + 20 = 200\n",
      "10 * 20 = 200\n"
     ]
    }
   ],
   "source": [
    "name = '전우치'\n",
    "print('나의 이름은 :', name)\n",
    "age = 27\n",
    "print('나의 나이는 :', age)\n",
    "height = 179\n",
    "print('나의 키는', height, 'cm 입니다.')\n",
    "sum = 10 * 20\n",
    "print('10 + 20 =', sum)\n",
    "mult = 10 * 20\n",
    "print('10 * 20 =', mult)"
   ]
  },
  {
   "cell_type": "markdown",
   "metadata": {},
   "source": [
    "### LAB 2-6 : 변수 값의 재지정\n",
    "다음과 같은 코드는 어떤 결과가 출력이 될까?"
   ]
  },
  {
   "cell_type": "code",
   "execution_count": 19,
   "metadata": {},
   "outputs": [
    {
     "name": "stdout",
     "output_type": "stream",
     "text": [
      "사각형의 면적 1200\n"
     ]
    }
   ],
   "source": [
    "width = 20\n",
    "height = 40\n",
    "width = 30\n",
    "area = width * height\n",
    "print('사각형의 면적', area)"
   ]
  },
  {
   "cell_type": "markdown",
   "metadata": {},
   "source": [
    "### LAB 2-7 : 파이썬 연산자의 사용\n",
    "1. 다음과 같은 계산을 파이선 대화창에서 수행하고 그 결과를 적으시오.\n",
    "1) 123 * 456\n",
    "2) 1357 + 2468\n",
    "3) 5 ** 4\n",
    "4) 10 / 4\n",
    "5) 10 // 5\n",
    "6) 10 % 5"
   ]
  },
  {
   "cell_type": "code",
   "execution_count": 20,
   "metadata": {},
   "outputs": [
    {
     "name": "stdout",
     "output_type": "stream",
     "text": [
      "56088\n",
      "3825\n",
      "625\n",
      "2.5\n",
      "2\n",
      "0\n"
     ]
    }
   ],
   "source": [
    "print(123*456)\n",
    "print(1357 + 2468)\n",
    "print(5**4)\n",
    "print(10 / 4)\n",
    "print(10 // 5)\n",
    "print(10%5)"
   ]
  },
  {
   "cell_type": "markdown",
   "metadata": {},
   "source": [
    "2. 5를 2로 나눈 나머지를 구하시오. 이를 구하기 위한 파이썬 수식을 적으시오."
   ]
  },
  {
   "cell_type": "code",
   "execution_count": 21,
   "metadata": {},
   "outputs": [
    {
     "name": "stdout",
     "output_type": "stream",
     "text": [
      "1\n"
     ]
    }
   ],
   "source": [
    "print(5%2)"
   ]
  },
  {
   "cell_type": "markdown",
   "metadata": {},
   "source": [
    "3. 2의 제곱근과 3의 제곱근을 ** 연산자를 사용하여 각각 구하시오."
   ]
  },
  {
   "cell_type": "code",
   "execution_count": 22,
   "metadata": {},
   "outputs": [
    {
     "name": "stdout",
     "output_type": "stream",
     "text": [
      "2의 제곱근 : 1.4142135623730951\n",
      "3의 제곱근 : 1.7320508075688772\n"
     ]
    }
   ],
   "source": [
    "print('2의 제곱근 :', 2**(1/2))\n",
    "print('3의 제곱근 :', 3**(1/2))"
   ]
  },
  {
   "cell_type": "markdown",
   "metadata": {},
   "source": [
    "### LAB 2-8 : 복소수의 연산\n",
    "복소수 a = 8 + 2i, b = 4 + 3i의 두 복소수에 대하여 다음 연산 결과를 적으시오."
   ]
  },
  {
   "cell_type": "code",
   "execution_count": 23,
   "metadata": {},
   "outputs": [
    {
     "name": "stdout",
     "output_type": "stream",
     "text": [
      "(12+5j)\n",
      "(4-1j)\n",
      "(26+32j)\n",
      "(1.52-0.64j)\n"
     ]
    }
   ],
   "source": [
    "a = 8 + 2j\n",
    "b = 4 + 3j\n",
    "print(a+b)\n",
    "print(a-b)\n",
    "print(a*b)\n",
    "print(a/b)"
   ]
  },
  {
   "cell_type": "markdown",
   "metadata": {},
   "source": [
    "### LAB 2-9 : 비트 연산 활용\n",
    "정수를 반으로 나누어가며 얻는 수를 계산해 보고, 연속적으로 두 배를 만들어 2^x 값을 생성해 보는 일을 비트 연산으로 할 수 있다. 다음과 같이 a라는 변수에 대하여 비트 연산을 적용시키고 그 결과를 밑줄 친 부분에 적어보시오."
   ]
  },
  {
   "cell_type": "code",
   "execution_count": 24,
   "metadata": {},
   "outputs": [
    {
     "name": "stdout",
     "output_type": "stream",
     "text": [
      "512\n",
      "256\n",
      "512\n",
      "256\n",
      "2\n",
      "2\n",
      "4\n",
      "8\n",
      "16\n"
     ]
    }
   ],
   "source": [
    "a = 1024\n",
    "# (1)\n",
    "print(a >> 1)\n",
    "# (2)\n",
    "print(a >> 2)\n",
    "# (3)\n",
    "a = a >> 1\n",
    "print(a)\n",
    "# (4)\n",
    "a = a >> 1\n",
    "print(a)\n",
    "# (5)\n",
    "a = 1\n",
    "print(a << 1)\n",
    "# (6)\n",
    "a = a<< 1\n",
    "print(a)\n",
    "# (7)\n",
    "a = a<< 1\n",
    "print(a)\n",
    "# (8)\n",
    "a = a << 1\n",
    "print(a)\n",
    "# (9)\n",
    "a = a << 1\n",
    "print(a)"
   ]
  },
  {
   "cell_type": "markdown",
   "metadata": {},
   "source": [
    "### LAB 2-10 : 사용자 입력 받기\n",
    "1. 다음 코드의 수행 결과는 무엇인가? __에 들어갈 알맞은 내용을 적으시오."
   ]
  },
  {
   "cell_type": "code",
   "execution_count": 2,
   "metadata": {},
   "outputs": [
    {
     "name": "stdout",
     "output_type": "stream",
     "text": [
      "김유신 님이 입장하셨습니다.\n"
     ]
    }
   ],
   "source": [
    "name = input('이름을 입력하세요 : ')\n",
    "print(name, '님이 입장하셨습니다.')\n"
   ]
  },
  {
   "cell_type": "markdown",
   "metadata": {},
   "source": [
    "2. 다음 코드의 수행결과는 무엇인가? __에 드렁갈 알맞은 내용을 적으시오."
   ]
  },
  {
   "cell_type": "code",
   "execution_count": 3,
   "metadata": {},
   "outputs": [
    {
     "name": "stdout",
     "output_type": "stream",
     "text": [
      "m + n = 80\n",
      "m - n = -20\n"
     ]
    }
   ],
   "source": [
    "m = int(input('숫자 m을 입력하세요 : '))\n",
    "n = int(input('숫자 n을 입력하세요 : '))\n",
    "print('m + n =', m + n)\n",
    "print('m - n =', m - n)"
   ]
  },
  {
   "cell_type": "markdown",
   "metadata": {},
   "source": [
    "3. 사용자로부터 원의 반지름을 정수로 입력받아 이 원의 면적을 출력하여라(힌트 : 원의 면적은 (3.14) * (반지름)로 구할 수 있다)."
   ]
  },
  {
   "cell_type": "code",
   "execution_count": 4,
   "metadata": {},
   "outputs": [
    {
     "name": "stdout",
     "output_type": "stream",
     "text": [
      "원의 면적은  314.0 입니다.\n"
     ]
    }
   ],
   "source": [
    "radius = int(input('반지름을 입력하세요 :'))\n",
    "print('원의 면적은 ', radius*radius*3.14, '입니다.')"
   ]
  }
 ],
 "metadata": {
  "kernelspec": {
   "display_name": "Python 3.10.6 64-bit",
   "language": "python",
   "name": "python3"
  },
  "language_info": {
   "codemirror_mode": {
    "name": "ipython",
    "version": 3
   },
   "file_extension": ".py",
   "mimetype": "text/x-python",
   "name": "python",
   "nbconvert_exporter": "python",
   "pygments_lexer": "ipython3",
   "version": "3.10.6"
  },
  "orig_nbformat": 4,
  "vscode": {
   "interpreter": {
    "hash": "20c9d94bea3bcd43e69d1e5f02ce962985699c48de0c68502218d203d4c4e41a"
   }
  }
 },
 "nbformat": 4,
 "nbformat_minor": 2
}
