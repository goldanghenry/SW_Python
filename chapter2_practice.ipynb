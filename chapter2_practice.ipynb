{
 "cells": [
  {
   "cell_type": "markdown",
   "metadata": {},
   "source": [
    "## Chater2 Practice\n",
    "-2022.09.08"
   ]
  },
  {
   "cell_type": "markdown",
   "metadata": {},
   "source": [
    "#### 1. 정사각형의 면적을 구하기 위하여 사용자로부터 밑변의 길이를 정수로 입력받아서 다음과 같이 출력하시오(힌트: int(input(‘정사각형의 밑변을 입력하시오 : ‘))를 사용함)."
   ]
  },
  {
   "cell_type": "code",
   "execution_count": 1,
   "metadata": {},
   "outputs": [
    {
     "name": "stdout",
     "output_type": "stream",
     "text": [
      "정사각형의 면적 : 1600\n"
     ]
    }
   ],
   "source": [
    "n = int(input('정사각형의 밑변을 입력하시오 :'))\n",
    "print('정사각형의 면적 :', n**2)"
   ]
  },
  {
   "cell_type": "markdown",
   "metadata": {},
   "source": [
    "### 2. 섭씨온도(celsius)를 화씨온도(fahrenheit)로 변환하는 식을 바탕으로 사용자로부터 섭씨온도를 입력받아서 다음과 같이 화씨온도로 출력하시오(힌트: int(input(‘섭씨온도를 입력하세요 : ‘))를 사용함).\n",
    "-섭씨온도를 화씨온도로 변환하는 공식: fahrenheit = (9/5) * celsius + 32"
   ]
  },
  {
   "cell_type": "code",
   "execution_count": 2,
   "metadata": {},
   "outputs": [
    {
     "name": "stdout",
     "output_type": "stream",
     "text": [
      "섭씨 30도는 화씨 86.0도 입니다.\n"
     ]
    }
   ],
   "source": [
    "c = int(input('섭씨 온도를 입력하세요: '))\n",
    "f = (9/5)*c+32\n",
    "print(f'섭씨 {c}도는 화씨 {f}도 입니다.')"
   ]
  },
  {
   "cell_type": "markdown",
   "metadata": {},
   "source": [
    "### 3. 비트 이동 연산자를 이용하여 2의 거듭제곱 수 10개를 다음과 같이 출력하라.\n",
    "-힌트: 2 << 0 = 2, 2 << 1 = 4, 2 << 2 = 8\n"
   ]
  },
  {
   "cell_type": "code",
   "execution_count": 6,
   "metadata": {},
   "outputs": [
    {
     "name": "stdout",
     "output_type": "stream",
     "text": [
      "2 4 8 16 32 64 128 256 512 1024 "
     ]
    }
   ],
   "source": [
    "n,m = map(int, input('거듭제곱을 알고 싶은 정수와, 개수를 입력하세요').split())\n",
    "result = 1\n",
    "for _ in range(m):\n",
    "    result *= 2\n",
    "    print(result, end=' ')\n"
   ]
  },
  {
   "cell_type": "markdown",
   "metadata": {},
   "source": [
    "### 4. 사용자의 키보드 입력을 통해 n값을 입력받아, 주어진 정수 n이 짝수이면 True, 홀수이면 False를 출력하는 코드를 작성해 보라. n이 20, 21인 경우에 대하여 다음과 같이 출력된다."
   ]
  },
  {
   "cell_type": "code",
   "execution_count": 7,
   "metadata": {},
   "outputs": [
    {
     "name": "stdout",
     "output_type": "stream",
     "text": [
      "이 수가 짝수인가요? False\n"
     ]
    }
   ],
   "source": [
    "n = int(input('정수를 입력하세요 : '))\n",
    "if n%2==0:\n",
    "    print('이 수가 짝수인가요? True')\n",
    "else:\n",
    "    print('이 수가 짝수인가요? False')"
   ]
  },
  {
   "cell_type": "markdown",
   "metadata": {},
   "source": [
    "### 5. 사용자로부터 세 자리 정수를 입력으로 받으시오. 이때 입력받은 정수 n에 대한 백의 자리, 십의 자리, 일의 자리 십진수 값을 다음과 같이 출력하시오.\n",
    "-힌트: // 연산자와 % 연산자를 사용하시오. 예를 들어 백의 자리는 n//100을 통해서 구할 수 있다.\n"
   ]
  },
  {
   "cell_type": "code",
   "execution_count": 11,
   "metadata": {},
   "outputs": [
    {
     "name": "stdout",
     "output_type": "stream",
     "text": [
      "백의 자리 : 3\n",
      "십의 자리 : 4\n",
      "일의 자리 : 9\n"
     ]
    }
   ],
   "source": [
    "n=''\n",
    "while True:\n",
    "    n = input('세 자리 정수를 입력하세요 :')\n",
    "    if len(n) == 3:\n",
    "        n = int(n)\n",
    "        break\n",
    "\n",
    "print('백의 자리 :', n//100)\n",
    "print('십의 자리 :', int((n%100-n%10)/10))\n",
    "print('일의 자리 :', n%10)"
   ]
  }
 ],
 "metadata": {
  "kernelspec": {
   "display_name": "Python 3.10.6 64-bit",
   "language": "python",
   "name": "python3"
  },
  "language_info": {
   "codemirror_mode": {
    "name": "ipython",
    "version": 3
   },
   "file_extension": ".py",
   "mimetype": "text/x-python",
   "name": "python",
   "nbconvert_exporter": "python",
   "pygments_lexer": "ipython3",
   "version": "3.10.6"
  },
  "orig_nbformat": 4,
  "vscode": {
   "interpreter": {
    "hash": "20c9d94bea3bcd43e69d1e5f02ce962985699c48de0c68502218d203d4c4e41a"
   }
  }
 },
 "nbformat": 4,
 "nbformat_minor": 2
}
