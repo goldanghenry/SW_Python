{
 "cells": [
  {
   "cell_type": "markdown",
   "metadata": {},
   "source": [
    "## Chapter3 Practice\n",
    "-2022.09.15"
   ]
  },
  {
   "cell_type": "markdown",
   "metadata": {},
   "source": [
    "### 3.1\n",
    "다음 조건문의 실행 결과는 무엇인가? True 혹은 False로 나타내어라."
   ]
  },
  {
   "cell_type": "code",
   "execution_count": null,
   "metadata": {},
   "outputs": [],
   "source": [
    "print(100 > 200)    # False\n",
    "print(100 >= 200)   # False\n",
    "print(100 < 200)    # True\n",
    "print(100 <= 200)   # True\n",
    "print(100 == 200)   # False\n",
    "print()\n",
    "print(100 != 200)   # True\n",
    "print(200 == 200)   # True\n",
    "print(200 != 200)   # False\n",
    "print(True or True) # True\n",
    "print(True or False)    # True\n",
    "print()\n",
    "print(True and False)   # False\n",
    "print(True and True)    # True\n",
    "print(True or True and False)   # 연산자 우선순위 : and > or // True or (True and False) -> True or False = True\n",
    "print(True and True or False)   # True\n",
    "print('Morning'<'morning')      # True, 소문자가 더 크다(아스키코드 상 나중에 나옴)\n",
    "print('A' > 'B')                # False, A가 더 작다(아스키코드 상 먼저 나옴)"
   ]
  },
  {
   "cell_type": "markdown",
   "metadata": {},
   "source": [
    "### 3.2\n",
    "키가 140cm 미만이면 탈 수 없는 놀이기구가 있다. 다음과 같이 사용자로부터 이름과<br>\n",
    "키를 입력받아 이 놀이기구에 탈 수 있는지 없는지를 판단하여 출력하는 프로그램을<br>\n",
    "작성하시오."
   ]
  },
  {
   "cell_type": "code",
   "execution_count": 6,
   "metadata": {},
   "outputs": [
    {
     "name": "stdout",
     "output_type": "stream",
     "text": [
      "승주 님은 놀이기구를 탈 수 없습니다.\n"
     ]
    }
   ],
   "source": [
    "name = input('이름을 입력하시오 : ')\n",
    "height = int(input('키를 입력하시오(단위 cm) : '))\n",
    "if height < 140:\n",
    "    print(name, '님은 놀이기구를 탈 수 없습니다.')\n",
    "else:\n",
    "    print(name, '님은 놀이기구를 탈 수 있습니다.')"
   ]
  },
  {
   "cell_type": "markdown",
   "metadata": {},
   "source": [
    "### 3.3\n",
    "나이가 19세 이상이고 키가 150cm 이상이면 탈 수 있는 성인 놀이기구가 있다. 다음과 같이 사용자로부터 나이와<br>\n",
    "키를 입력받아 이 놀이기구에 탈 수 있는지 없는지를 판단하여 출력하는 프로그램을 작성하시오.<br>\n",
    "이때 조건식에 반드시 and가 들어가도록 프로그래밍 하시오."
   ]
  },
  {
   "cell_type": "code",
   "execution_count": 8,
   "metadata": {},
   "outputs": [
    {
     "name": "stdout",
     "output_type": "stream",
     "text": [
      "입장할 수 없습니다.\n"
     ]
    }
   ],
   "source": [
    "age = int(input('나이를 입력하시오 : '))\n",
    "height = int(input('키를 입력하시오(단위 cm) :'))\n",
    "\n",
    "if age >= 19 and height >= 150:\n",
    "    print('입장할 수 있습니다.')\n",
    "else:\n",
    "    print('입장할 수 없습니다.')"
   ]
  },
  {
   "cell_type": "markdown",
   "metadata": {},
   "source": [
    "### 3.4\n",
    "다음과 같이 사용자로부터 나이를 입력받아 20살 이상이면 \"Adult\", 10살 이상 20살 미만이면 \"Youth\",<br>\n",
    "10살 미만이면 \"Kid\"를 출력하는 프로그램을 if-elif-else 문을 사용하여 작성하시오"
   ]
  },
  {
   "cell_type": "code",
   "execution_count": 11,
   "metadata": {},
   "outputs": [
    {
     "name": "stdout",
     "output_type": "stream",
     "text": [
      "Kid\n"
     ]
    }
   ],
   "source": [
    "age = int(input('나이를 입력하시오 : '))    # 큰 수부터 조건 걸기\n",
    "if age >= 20:\n",
    "    print('Adult')\n",
    "elif age >= 10:\n",
    "    print('Youth')\n",
    "else:\n",
    "    print('Kid')"
   ]
  },
  {
   "cell_type": "markdown",
   "metadata": {},
   "source": [
    "### 3.5\n",
    "다음과 같이 사용자로부터 2개의 임의의 정수를 입력으로 받아서 가장 작은 수부터 큰 수까지 나열하는<br>\n",
    "프로그램을 if-else 문을 사용하여 작성하시오."
   ]
  },
  {
   "cell_type": "code",
   "execution_count": 13,
   "metadata": {},
   "outputs": [
    {
     "name": "stdout",
     "output_type": "stream",
     "text": [
      "12 99\n"
     ]
    }
   ],
   "source": [
    "# map(f, iterable) 함수f 와 반복 가능한(iterable) 자료형을 입력 받음.\n",
    "# map은 입력 받은 자료형의 각 요소를 함수 f가 수행한 결과를 묶어 돌려줌\n",
    "# 공백을 구분으로 integer로 a,b 변수에 각각 넣기\n",
    "a,b = map(int, input('두 정수를 입력하시오 : ').split())\n",
    "if a < b:\n",
    "    print(a, b)\n",
    "else:\n",
    "    print(b, a)"
   ]
  },
  {
   "cell_type": "markdown",
   "metadata": {},
   "source": [
    "### 3.6\n",
    "다음과 같이 사용자로부터 3개의 임의의 정수를 입력으로 받아서 가장 작은 수부터 큰 수까지 <br>\n",
    "나열하는 프로그램을 if-else 문을 사용하여 작성하시오."
   ]
  },
  {
   "cell_type": "code",
   "execution_count": 15,
   "metadata": {},
   "outputs": [
    {
     "name": "stdout",
     "output_type": "stream",
     "text": [
      "4 12 99\n"
     ]
    }
   ],
   "source": [
    "# 공백을 구분으로 integer로 a,b 변수에 각각 넣기\n",
    "a,b,c = map(int, input('세 정수를 입력하시오 : ').split())\n",
    "if min(a,b,c) == a:                 # 가장 작은 수가 a라면\n",
    "    print(a, min(b,c), max(b,c))    # a, (b,c)중 작은 것, (b,c)중 큰 것\n",
    "elif min(a,b,c) == b:               \n",
    "    print(b, min(a,c), max(a,c))\n",
    "else:\n",
    "    print(c, min(a,b), max(a,b))"
   ]
  },
  {
   "cell_type": "markdown",
   "metadata": {},
   "source": [
    "### 3.7\n",
    "사용자로부터 점수를 입력받은 다음 게임 사용자의 게임점수(game_score)가 1000점 이상이면 '고수입니다.'<br>\n",
    "1000점 미만이면 '입문자입니다.'를 출력하는 프로그램을 if-else 문을 이용하여 작성하시오."
   ]
  },
  {
   "cell_type": "code",
   "execution_count": 16,
   "metadata": {},
   "outputs": [
    {
     "name": "stdout",
     "output_type": "stream",
     "text": [
      "입문자입니다.\n"
     ]
    }
   ],
   "source": [
    "game_score = int(input('게임점수를 입력하시오 : '))\n",
    "if game_score >= 1000:\n",
    "    print('고수입니다.')\n",
    "else:\n",
    "    print('입문자입니다.')"
   ]
  },
  {
   "cell_type": "markdown",
   "metadata": {},
   "source": [
    "### 3.8\n",
    "사용자로부터 x,y좌표를 가진 한 점을 입력으로 받아서 이 점이 1,2,3,4 분면의 어디에<br>\n",
    "속하는지를 알려주는 프로그램을 작성하시오. 사분면의 위치는 다음 그림과 같다."
   ]
  },
  {
   "cell_type": "code",
   "execution_count": 19,
   "metadata": {},
   "outputs": [
    {
     "name": "stdout",
     "output_type": "stream",
     "text": [
      "3사분면에 있음\n"
     ]
    }
   ],
   "source": [
    "x,y = map(int, input('점의 좌표 x, y를 입력하시오 : ').split())\n",
    "if x > 0 and y > 0:\n",
    "    print('1사분면에 있음')\n",
    "elif x < 0 and y > 0:\n",
    "    print('2사분면에 있음')\n",
    "elif x < 0 and y < 0:\n",
    "    print('3사분면에 있음')\n",
    "else:\n",
    "    print('4사분면에 있음')"
   ]
  },
  {
   "cell_type": "markdown",
   "metadata": {},
   "source": [
    "### 3.9\n",
    "하나의 정수를 입력으로 받아서 이 정수가 2로 나누어지는지, 3으로 나누어지는지, 혹은 두 정수 모두로도<br> 나누어지는지 알려주는 프로그램을 다음과 같이 작성하시오."
   ]
  },
  {
   "cell_type": "code",
   "execution_count": 21,
   "metadata": {},
   "outputs": [
    {
     "name": "stdout",
     "output_type": "stream",
     "text": [
      "12는(은) 2(으)로 나누어집니다.\n",
      "12는(은) 2(으)로 나누어집니다.\n",
      "12는(은) 2(와)과 3 모두로 나누어집니다.\n"
     ]
    }
   ],
   "source": [
    "n = int(input('정수를 입력하시오 : '))\n",
    "if n%2==0:\n",
    "    print(f'{n}는(은) 2(으)로 나누어집니다.')\n",
    "else:\n",
    "    print(f'{n}는(은) 2(으)로 나누어지지 않습니다.')\n",
    "\n",
    "if n%3==0:\n",
    "    print(f'{n}는(은) 2(으)로 나누어집니다.')\n",
    "else:\n",
    "    print(f'{n}는(은) 2(으)로 나누어지지 않습니다.')\n",
    "\n",
    "if n%2==0 and n%3==0:\n",
    "    print(f'{n}는(은) 2(와)과 3 모두로 나누어집니다.')\n",
    "else:\n",
    "    print(f'{n}는(은) 2(와)과 3 모두로 나누어지지 않습니다.')"
   ]
  },
  {
   "cell_type": "markdown",
   "metadata": {},
   "source": [
    "### 3.10\n",
    "사용자로부터 2개의 정수를 a, b를 입력으로 받은 다음 a가 b의 배수인지 아닌지를 판단하여 출력하는<br>\n",
    "다음과 같은 프로그램을 작성하시오."
   ]
  },
  {
   "cell_type": "code",
   "execution_count": 25,
   "metadata": {},
   "outputs": [
    {
     "name": "stdout",
     "output_type": "stream",
     "text": [
      "125는(은) 52의 배수가 아닙니다.\n"
     ]
    }
   ],
   "source": [
    "a,b = map(int, input('두 정수를 입력하시오 : ').split())\n",
    "if a%b == 0:\n",
    "    print(f'{a}는(은) {b}의 배수입니다.')\n",
    "else:\n",
    "    print(f'{a}는(은) {b}의 배수가 아닙니다.')"
   ]
  },
  {
   "cell_type": "markdown",
   "metadata": {},
   "source": [
    "### 3.11\n",
    "1에서 10 사이의 복권번호 중에서 3개의 숫자를 모두 맞히면 '1억 원', 2개를 맞히면 '1천만 원',<br>\n",
    "1개를 맞히면 '1만 원', 모두 틀리면 '다음 기회에...'을 출력하는 복권 시스템이 있다고 가정하자.<br>\n",
    "사용자로부터 3개의 정수를 받은 다음 상금을 알려주는 프로그램을 다음과 같이 작성하시오.<br>\n",
    "(단, 이번 회차 복권 당첨 번호가 2, 3, 9라고 가정하자)."
   ]
  },
  {
   "cell_type": "code",
   "execution_count": 30,
   "metadata": {},
   "outputs": [
    {
     "name": "stdout",
     "output_type": "stream",
     "text": [
      "상금 1천만 원\n"
     ]
    }
   ],
   "source": [
    "number = [2,3,9]    # 복권 당첨 번호\n",
    "count = 0           # 맞춘 횟수 카운트\n",
    "a,b,c = map(int, input('세 복권번호를 입력하시오 : ').split())\n",
    "\n",
    "# 바로 비교하면 순서가 다르면 체크하기 복잡함\n",
    "if a in number:     # a가 list number에 있다면 True\n",
    "    count += 1\n",
    "if b in number:\n",
    "    count += 1\n",
    "if c in number:\n",
    "    count += 1\n",
    "\n",
    "# 높은 순부터\n",
    "if count == 3:      # 모두 맞춘 경우\n",
    "    print('상금 1억 원')\n",
    "elif count == 2:    # 두 개를 맞춘 경우\n",
    "    print('상금 1천만 원')\n",
    "elif count == 1:\n",
    "    print('상금 1만 원')\n",
    "else:\n",
    "    print('다음 기회에...')"
   ]
  },
  {
   "cell_type": "markdown",
   "metadata": {},
   "source": [
    "### 3.12\n",
    "중심이 원점 (0,0)에 있고 반지름이 5인 원이 있다고 가정하자. 사용자로부터 x와 y좌표를 입력받은 후,<br>\n",
    "입력받은 점의 좌표 (x,y)가 원의 내부에 있으면 '원의 내부에 있음', 원의 외부에 있으면 '원의 외부에 있음'<br>\n",
    "을 출력하는 다음과 같은 프로그램을 작성하시오."
   ]
  },
  {
   "cell_type": "code",
   "execution_count": 32,
   "metadata": {},
   "outputs": [
    {
     "name": "stdout",
     "output_type": "stream",
     "text": [
      "원의 외부에 있음\n"
     ]
    }
   ],
   "source": [
    "x, y = map(int, input('점의 좌표 x, y를 입력하시오 : ').split())\n",
    "\n",
    "if (x*x + y*y)**(1/2) > 5:  # 원점과의 거리 계산식, 루트 a : a ** (1/2)\n",
    "    print('원의 외부에 있음')\n",
    "else:\n",
    "    print('원의 내부에 있음')"
   ]
  },
  {
   "cell_type": "markdown",
   "metadata": {},
   "source": [
    "### 3.13\n",
    "이제 원의 중심이 (3,4)이고 원의 반지름이 10인 경우에 대하여 고려해보자."
   ]
  },
  {
   "cell_type": "code",
   "execution_count": 34,
   "metadata": {},
   "outputs": [
    {
     "name": "stdout",
     "output_type": "stream",
     "text": [
      "원의 내부에 있음\n"
     ]
    }
   ],
   "source": [
    "x, y = map(int, input('점의 좌표 x, y를 입력하시오 : ').split())\n",
    "\n",
    "if ((x-3)**2 + (y-4)**2)**(1/2) > 10:  # 한 점과 한 원의 중심과의 거리 계산식\n",
    "    print('원의 외부에 있음')\n",
    "else:\n",
    "    print('원의 내부에 있음')"
   ]
  },
  {
   "cell_type": "markdown",
   "metadata": {},
   "source": [
    "### 3.14\n",
    "사용자로부터 알파벳 문자 하나를 입력 받아서 a, e, i , o ,u일 경우 '모음입니다.'를<br>\n",
    "이외의 문자일 경우 '자음입니다.'를 출력하시오."
   ]
  },
  {
   "cell_type": "code",
   "execution_count": 36,
   "metadata": {},
   "outputs": [
    {
     "name": "stdout",
     "output_type": "stream",
     "text": [
      "t (은)는 자음입니다.\n"
     ]
    }
   ],
   "source": [
    "alp = ['a', 'e', 'i', 'o', 'u']\n",
    "n = input('알파벳을 입력하시오 : ')\n",
    "\n",
    "if n in alp:\n",
    "    print(n, '(은)는 모음입니다.')\n",
    "else:\n",
    "    print(n, '(은)는 자음입니다.')"
   ]
  },
  {
   "cell_type": "markdown",
   "metadata": {},
   "source": [
    "### 3.15\n",
    "다음과 같이 구구단의 2절을 출력하는 프로그램을 for 문과 while 문을 사용하여 각각 작성하여라."
   ]
  },
  {
   "cell_type": "code",
   "execution_count": null,
   "metadata": {},
   "outputs": [],
   "source": [
    "# for문을 이용한 문제풀이\n",
    "for i in range(1,10):\n",
    "    print('2 *', i, '=', 2*i)"
   ]
  },
  {
   "cell_type": "code",
   "execution_count": null,
   "metadata": {},
   "outputs": [],
   "source": [
    "# while문을 이용한 문제풀이\n",
    "i = 1\n",
    "while(i<10):\n",
    "    print('2 *', i, '=', 2*i)\n",
    "    i+=1"
   ]
  },
  {
   "cell_type": "markdown",
   "metadata": {},
   "source": [
    "### 3.16\n",
    "다음과 같이 사용자로부터 1에서 9사이의 숫자를 입력받아 입력받은 숫자의 절에 해당하는 구구단을 출력하는<br>\n",
    "프로그램을 for문과 while문을 사용하여 각각 작성하여라.<br>\n",
    "만일 1에서 9 이외의 숫자가 입력되면 '1에서 9까지의 수를 다시 입력하세요:'라는 안내문을 출력하여라."
   ]
  },
  {
   "cell_type": "code",
   "execution_count": 39,
   "metadata": {},
   "outputs": [
    {
     "name": "stdout",
     "output_type": "stream",
     "text": [
      "2 * 1 = 2\n",
      "2 * 2 = 4\n",
      "2 * 3 = 6\n",
      "2 * 4 = 8\n",
      "2 * 5 = 10\n",
      "2 * 6 = 12\n",
      "2 * 7 = 14\n",
      "2 * 8 = 16\n",
      "2 * 9 = 18\n"
     ]
    }
   ],
   "source": [
    "# for문을 이용한 문제 풀이\n",
    "n = int(input('1에서 9까지의 수를 입력하세요: '))\n",
    "\n",
    "# 1에서 9사이의 숫자를 입력받기 위한 for문 무한루프\n",
    "loopList = [1]\n",
    "for x in loopList:\n",
    "    loopList.append(1)\n",
    "    if n < 1 or n > 9:\n",
    "        n = int(input('1에서 9까지의 수를 다시 입력하세요: '))\n",
    "    else:\n",
    "        break   # 유효숫자가 들어오면 무한루프를 벗어난다\n",
    "\n",
    "# 구구단 출력\n",
    "for i in range(1,10):\n",
    "    print(n,'*', i, '=', n*i)\n"
   ]
  },
  {
   "cell_type": "code",
   "execution_count": 40,
   "metadata": {},
   "outputs": [
    {
     "name": "stdout",
     "output_type": "stream",
     "text": [
      "3 * 1 = 3\n",
      "3 * 2 = 6\n",
      "3 * 3 = 9\n",
      "3 * 4 = 12\n",
      "3 * 5 = 15\n",
      "3 * 6 = 18\n",
      "3 * 7 = 21\n",
      "3 * 8 = 24\n",
      "3 * 9 = 27\n"
     ]
    }
   ],
   "source": [
    "# while문을 이용한 문제 풀이\n",
    "n = int(input('1에서 9까지의 수를 입력하세요: '))\n",
    "\n",
    "# 1에서 9사이의 숫자를 입력받기 위한 while문 무한루프\n",
    "while(True):\n",
    "    if n < 1 or n > 9:\n",
    "        n = int(input('1에서 9까지의 수를 다시 입력하세요: '))\n",
    "    else:\n",
    "        break   # 유효숫자가 들어오면 무한루프를 벗어난다\n",
    "\n",
    "# 구구단 출력\n",
    "i = 1\n",
    "while(i<10):\n",
    "    print(n,'*', i, '=', n*i)\n",
    "    i+=1"
   ]
  },
  {
   "cell_type": "markdown",
   "metadata": {},
   "source": [
    "### 3.17\n",
    "다음의 프로그램은 어떤 결과 값을 출력하는가? 출력결과를 미리 예측한 후 타이핑하여 그 결과가 맞는지 확인해 보도록 하자."
   ]
  },
  {
   "cell_type": "code",
   "execution_count": null,
   "metadata": {},
   "outputs": [],
   "source": [
    "# 1) 전체가 3번 출력\n",
    "for i in range(3):\n",
    "    print('Python ')\n",
    "    print('is ')\n",
    "    print('FUN! ')"
   ]
  },
  {
   "cell_type": "code",
   "execution_count": null,
   "metadata": {},
   "outputs": [],
   "source": [
    "# 2) 나머지 3번 FUN!만 한번 출력\n",
    "for i in range(3):\n",
    "    print('Python ')\n",
    "    print('is ')\n",
    "print('FUN! ')"
   ]
  },
  {
   "cell_type": "code",
   "execution_count": null,
   "metadata": {},
   "outputs": [],
   "source": [
    "# 3) Python만 3번 출력\n",
    "for i in range(3):\n",
    "    print('Python ')\n",
    "print('is ')\n",
    "print('FUN! ')"
   ]
  },
  {
   "cell_type": "markdown",
   "metadata": {},
   "source": [
    "### 3.18\n",
    "\n",
    "맛나 식당의 메뉴 주문 프로그램을 개발하고자 한다. 이를 위해 사용자에게 다음과 같은 메뉴를 보여주고<br> 이중에서 히나를 선택하도록 하자. 이때 메뉴에 없는 번호가 입력되면 ‘메뉴를 다시 입력하세요:  ’가<br> 출력되도록 한 후 다시 입력을 받도록 하자."
   ]
  },
  {
   "cell_type": "code",
   "execution_count": 49,
   "metadata": {},
   "outputs": [
    {
     "name": "stdout",
     "output_type": "stream",
     "text": [
      "맛나 식당에 오신 것을 환영합니다. 메뉴는 다음과 같습니다.\n",
      "1) 햄버거\n",
      "2) 치킨\n",
      "3) 피자\n",
      "치킨을 선택하였습니다.\n"
     ]
    }
   ],
   "source": [
    "# 여러 줄의 문자열을 저장하기 위해 \"\"\" \"\"\" 를 사용\n",
    "menu = \"\"\"맛나 식당에 오신 것을 환영합니다. 메뉴는 다음과 같습니다.\n",
    "1) 햄버거\n",
    "2) 치킨\n",
    "3) 피자\"\"\"\n",
    "print(menu)\n",
    "\n",
    "n = int(input('1에서 3까지의 메뉴를 선택하세요 : '))\n",
    "while n < 1 or n > 3:\n",
    "    n = int(input('메뉴를 다시 입력하세요 : '))\n",
    "\n",
    "if n == 1:\n",
    "    print('햄버거를 선택하였습니다.')\n",
    "elif n == 2:\n",
    "    print('치킨을 선택하였습니다.')\n",
    "else:\n",
    "    print('피자를 선택하였습니다.')"
   ]
  },
  {
   "cell_type": "markdown",
   "metadata": {},
   "source": [
    "### 3.19\n",
    "맛나 식당의 메뉴 주문 프로그램을 개발하고자 한다. 이를 위해 사용자에게 다음과 같은 메뉴를 보여주고<br> 이중에서 메뉴에 대응되는 하나의 알파벳을 선택하도록 하자. 이때 메뉴에 없는 알파벳이 입력되면 ‘메뉴를 다시<br> 입력하세요:  ’가 출력되도록 한 후 다시 입력을 받도록 하자."
   ]
  },
  {
   "cell_type": "code",
   "execution_count": 50,
   "metadata": {},
   "outputs": [
    {
     "name": "stdout",
     "output_type": "stream",
     "text": [
      "맛나 식당에 오신 것을 환영합니다. 메뉴는 다음과 같습니다.\n",
      "- 햄버거(입력 b)\n",
      "- 치킨(입력 c)\n",
      "- 피자(입력 p)\n",
      "치킨을 선택하였습니다.\n"
     ]
    }
   ],
   "source": [
    "menu = \"\"\"맛나 식당에 오신 것을 환영합니다. 메뉴는 다음과 같습니다.\n",
    "- 햄버거(입력 b)\n",
    "- 치킨(입력 c)\n",
    "- 피자(입력 p)\"\"\"\n",
    "print(menu)\n",
    "choice = ['b','c','p']\n",
    "n = input('메뉴를 선택하세요(알파벳 b, c, p 입력) : ')\n",
    "while n not in choice:\n",
    "    n = input('메뉴를 다시 입력하세요 : ')\n",
    "\n",
    "if n == 'b':\n",
    "    print('햄버거를 선택하였습니다.')\n",
    "elif n == 'c':\n",
    "    print('치킨을 선택하였습니다.')\n",
    "else:\n",
    "    print('피자를 선택하였습니다.')"
   ]
  }
 ],
 "metadata": {
  "kernelspec": {
   "display_name": "Python 3.10.6 64-bit",
   "language": "python",
   "name": "python3"
  },
  "language_info": {
   "codemirror_mode": {
    "name": "ipython",
    "version": 3
   },
   "file_extension": ".py",
   "mimetype": "text/x-python",
   "name": "python",
   "nbconvert_exporter": "python",
   "pygments_lexer": "ipython3",
   "version": "3.10.6"
  },
  "orig_nbformat": 4,
  "vscode": {
   "interpreter": {
    "hash": "20c9d94bea3bcd43e69d1e5f02ce962985699c48de0c68502218d203d4c4e41a"
   }
  }
 },
 "nbformat": 4,
 "nbformat_minor": 2
}
