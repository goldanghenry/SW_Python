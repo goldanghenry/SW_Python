{
 "cells": [
  {
   "cell_type": "markdown",
   "metadata": {},
   "source": [
    "## Chapter.10 LAB"
   ]
  },
  {
   "cell_type": "code",
   "execution_count": 5,
   "metadata": {},
   "outputs": [
    {
     "name": "stdout",
     "output_type": "stream",
     "text": [
      "100과 200의 합 :  300\n",
      "100과 200의 합 :  300\n"
     ]
    }
   ],
   "source": [
    "# lambda 연습\n",
    "add = lambda x, y : x+y\n",
    "print('100과 200의 합 : ',add(100,200))\n",
    "\n",
    "print('100과 200의 합 : ', (lambda x,y:x+y)(100,200))"
   ]
  },
  {
   "cell_type": "markdown",
   "metadata": {},
   "source": [
    "### LAB 10-1"
   ]
  },
  {
   "cell_type": "code",
   "execution_count": 6,
   "metadata": {},
   "outputs": [
    {
     "name": "stdout",
     "output_type": "stream",
     "text": [
      "200 - 100 = 100\n",
      "200 - 100 = 100\n"
     ]
    }
   ],
   "source": [
    "def sub(x,y):\n",
    "    return x-y\n",
    "print('200 - 100 =', sub(200,100))\n",
    "sub = lambda x,y:x-y\n",
    "print('200 - 100 =', sub(200,100))"
   ]
  },
  {
   "cell_type": "code",
   "execution_count": 7,
   "metadata": {},
   "outputs": [
    {
     "name": "stdout",
     "output_type": "stream",
     "text": [
      "성년 리스트 :\n",
      "34 39 20 54 "
     ]
    }
   ],
   "source": [
    "ages = [34,39,20,18,13,54]\n",
    "\n",
    "print('성년 리스트 :')\n",
    "for a in filter(lambda x:x >= 19, ages):\n",
    "    print(a, end=' ')"
   ]
  },
  {
   "cell_type": "markdown",
   "metadata": {},
   "source": [
    "### LAB 10-2"
   ]
  },
  {
   "cell_type": "code",
   "execution_count": 11,
   "metadata": {},
   "outputs": [
    {
     "name": "stdout",
     "output_type": "stream",
     "text": [
      "[2, 4, 6, 8, 10]\n",
      "[2, 4, 6, 8, 10]\n",
      "[1, 3, 5, 7, 9]\n",
      "[1, 3, 5, 7, 9]\n"
     ]
    }
   ],
   "source": [
    "#1. 짝수 필터링\n",
    "n_list = [1,2,3,4,5,6,7,8,9,10]\n",
    "#1-1) 빈 리스트에 추가\n",
    "even_list = []\n",
    "for a in filter(lambda x:x%2==0, n_list):\n",
    "    even_list.append(a)\n",
    "print(even_list)\n",
    "#1-2) filter() 함수가 반환하는 객체를 list() 객체로 만들어 할당\n",
    "even_list=list(filter(lambda x:x%2==0, n_list))\n",
    "print(even_list)\n",
    "\n",
    "#2. 홀수 필터링\n",
    "#2-1) 빈 리스트에 append()로 추가\n",
    "odd_list = []\n",
    "for a in filter(lambda x:x%2==1, n_list):\n",
    "    odd_list.append(a)\n",
    "print(odd_list)\n",
    "#2-2) filter() 함수가 반환하는 객체를 list객체로 변환해 할당\n",
    "odd_list=list(filter(lambda x:x%2==1, n_list))\n",
    "print(odd_list)"
   ]
  },
  {
   "cell_type": "markdown",
   "metadata": {},
   "source": [
    "### LAB 10-3"
   ]
  },
  {
   "cell_type": "code",
   "execution_count": 22,
   "metadata": {},
   "outputs": [
    {
     "name": "stdout",
     "output_type": "stream",
     "text": [
      "['A', 'B', 'C', 'D']\n",
      "['A', 'B', 'C', 'D']\n",
      "[20, 40, 60]\n",
      "[30, 60, 90]\n",
      "[20, 40, 60]\n",
      "[30, 60, 90]\n"
     ]
    }
   ],
   "source": [
    "#1. 소문자->대문자\n",
    "#1-1) to_upper() 함수를 정의해 변환\n",
    "upper_a_list = ['a','b','c','d']\n",
    "def to_upper(list):\n",
    "    temp = []\n",
    "    for a in list:\n",
    "        temp.append(a.upper())\n",
    "    return temp\n",
    "print(to_upper(upper_a_list))\n",
    "#1-2)\n",
    "print(list(map(lambda x:x.upper(),upper_a_list)))\n",
    "\n",
    "#2. 두배, 세배로 뻥튀기\n",
    "#2-1) twice()와 triple() 이림의 함수를 만들어 2배와 3배를 반환\n",
    "n_list = [10,20,30]\n",
    "# def twice(list):\n",
    "#     return [ 2*a for a in list ]\n",
    "# def triple(list):\n",
    "#     return [ 3*a for a in list ]\n",
    "def twice(a): return 2*a\n",
    "def triple(a): return 3*a\n",
    "print(list(map(twice,n_list)))\n",
    "print(list(map(triple,n_list)))\n",
    "#2-2) lambda 함수로 고쳐서 간결하게 변환\n",
    "print(list(map(lambda x:x*2,n_list)))\n",
    "print(list(map(lambda x:x*3,n_list)))\n"
   ]
  },
  {
   "cell_type": "markdown",
   "metadata": {},
   "source": [
    "### LAB 10-4\n",
    "- 기말, reduce, map, lambda, list comprehension 변환나온다. 조금 더 복잡하게"
   ]
  },
  {
   "cell_type": "code",
   "execution_count": 25,
   "metadata": {},
   "outputs": [
    {
     "name": "stdout",
     "output_type": "stream",
     "text": [
      "1에서 100까지의 합:  5050\n",
      "10! =  3628800\n"
     ]
    }
   ],
   "source": [
    "from functools import reduce\n",
    "#1. reduce() 함수를 사용해 1에서 100까지 정수의 합을 구하라.\n",
    "n = reduce(lambda x,y:x+y, range(1,101))\n",
    "print('1에서 100까지의 합: ',n)\n",
    "\n",
    "#2. reduce() 함수를 사용하여 10!을 구하여라\n",
    "n = reduce(lambda x,y: x*y, range(1,11))\n",
    "print('10! = ',n)"
   ]
  },
  {
   "cell_type": "markdown",
   "metadata": {},
   "source": [
    "### LAB 10-5\n",
    "- [{표현식} for {변수} in {반복자/연속열} if {조건 표현식}]"
   ]
  },
  {
   "cell_type": "code",
   "execution_count": 28,
   "metadata": {},
   "outputs": [
    {
     "name": "stdout",
     "output_type": "stream",
     "text": [
      "cubic = [1, 8, 27, 64, 125, 216, 343, 512, 729, 1000]\n",
      "a = ['welcome', 'to', 'the', 'python', 'world']\n",
      "first_a = ['w', 't', 't', 'p', 'w']\n"
     ]
    }
   ],
   "source": [
    "#1. 세제곱 값을 가지는 리스트 cubic\n",
    "cubic = [i**3 for i in range(1,11)]\n",
    "print('cubic =',cubic)\n",
    "\n",
    "#2. 리스트로부터 첫 알파벳을 추출한 first_a 리스트 생성\n",
    "a = ['welcome', 'to','the','python','world' ]\n",
    "first_a =[n[0] for n in a]\n",
    "print('a =',a)\n",
    "print('first_a =', first_a)"
   ]
  },
  {
   "cell_type": "markdown",
   "metadata": {},
   "source": [
    "### LAB 10-6"
   ]
  },
  {
   "cell_type": "code",
   "execution_count": 32,
   "metadata": {},
   "outputs": [
    {
     "name": "stdout",
     "output_type": "stream",
     "text": [
      "[1, 8, 27, 64, 125, 216, 343]\n",
      "['1', '2', '3', '4']\n"
     ]
    }
   ],
   "source": [
    "#1. 세제곱 값 중에서 500 이하인 값만 가진 리스트 생성\n",
    "cubic = [a**3 for a in range(1,11) if a**3<=500]\n",
    "print(cubic)\n",
    "\n",
    "#2. 문자열에서 숫자 추출\n",
    "st = 'Hello 1234 Python'\n",
    "print([a for a in st if a.isdigit()])"
   ]
  },
  {
   "cell_type": "code",
   "execution_count": 34,
   "metadata": {},
   "outputs": [
    {
     "name": "stdout",
     "output_type": "stream",
     "text": [
      "[0, 1, 2, 3, 4, 5, 6, 7, 8, 9]\n",
      "[0, 1, 4, 9, 16, 25, 36, 49, 64, 81]\n",
      "[0, 2, 4, 6, 8]\n",
      "[1, 3, 5, 7, 9]\n",
      "[0, 4, 16, 36, 64]\n",
      "[1, 9, 25, 49, 81]\n",
      "[1, 49, 2]\n"
     ]
    }
   ],
   "source": [
    "# 예제\n",
    "print([x for x in range(10)])\n",
    "print([x*x for x in range(10)])\n",
    "print([x for x in range(10) if x%2 == 0])\n",
    "print([x for x in range(10) if x%2 == 1])\n",
    "print([x*x for x in range(10) if x%2 == 0])\n",
    "print([x*x for x in range(10) if x%2 == 1])\n",
    "\n",
    "# str to integer\n",
    "print([int(x) for x in input('정수를 여러개 입력하세요 :').split()])"
   ]
  },
  {
   "cell_type": "code",
   "execution_count": 35,
   "metadata": {},
   "outputs": [
    {
     "name": "stdout",
     "output_type": "stream",
     "text": [
      "[2, 4, 6, 4, 8, 12, 6, 12, 18]\n"
     ]
    }
   ],
   "source": [
    "# 이중 for loop\n",
    "product_xy = [x*y for x in [1,2,3] for y in [2,4,6]]\n",
    "print(product_xy)"
   ]
  },
  {
   "cell_type": "code",
   "execution_count": 36,
   "metadata": {},
   "outputs": [
    {
     "name": "stdout",
     "output_type": "stream",
     "text": [
      "[6, 12, 18, 24, 30]\n"
     ]
    }
   ],
   "source": [
    "# 2와 3의 공배수 구하기\n",
    "print([n for n in range(1,31) if n%2 ==0 and n%3==0])"
   ]
  },
  {
   "cell_type": "markdown",
   "metadata": {},
   "source": [
    "### LAB 10-7 \n",
    "- 반복자 클래스 정의 문제\n",
    "- 짝수?\n",
    "- 피보나치 수열?"
   ]
  },
  {
   "cell_type": "code",
   "execution_count": 40,
   "metadata": {},
   "outputs": [
    {
     "name": "stdout",
     "output_type": "stream",
     "text": [
      "1 3 5 7 9 11 13 15 17 19 "
     ]
    }
   ],
   "source": [
    "class OddCounter:\n",
    "    def __init__(self, n=1):\n",
    "        self.n = n\n",
    "    def __iter__(self):\n",
    "        return self\n",
    "    def __next__(self):\n",
    "        if self.n < 20:\n",
    "            t = self.n\n",
    "            self.n += 2\n",
    "            return t\n",
    "        raise StopIteration\n",
    "\n",
    "my_count = OddCounter()\n",
    "for x in my_count:\n",
    "    if x > 20:\n",
    "        break\n",
    "    print(x,end=' ')\n",
    "\n"
   ]
  },
  {
   "cell_type": "code",
   "execution_count": 52,
   "metadata": {},
   "outputs": [
    {
     "name": "stdout",
     "output_type": "stream",
     "text": [
      "1 1 2 3 5 8 13 "
     ]
    }
   ],
   "source": [
    "# 피보나치 수열 카운터 클래스\n",
    "class fiboCounter:\n",
    "    def __init__(self, n=1):\n",
    "        self.pre = 1\n",
    "        self.cur = n\n",
    "        self.num = 1\n",
    "    def __iter__(self):\n",
    "        return self\n",
    "    def __next__(self):\n",
    "        if self.num==1 or self.num==2:\n",
    "            self.num +=1\n",
    "            return 1\n",
    "        else:\n",
    "            t = self.pre + self.cur\n",
    "            self.pre = self.cur\n",
    "            self.cur = t\n",
    "            self.num +=1\n",
    "            return t\n",
    "fibo = fiboCounter()\n",
    "for x in fibo:\n",
    "    if x > 20:\n",
    "        break\n",
    "    print(x,end=' ')"
   ]
  },
  {
   "cell_type": "markdown",
   "metadata": {},
   "source": [
    "### LAB 10-8"
   ]
  },
  {
   "cell_type": "code",
   "execution_count": 53,
   "metadata": {},
   "outputs": [
    {
     "name": "stdout",
     "output_type": "stream",
     "text": [
      "['Welcome', 'to', 'Busan', 'Metropolitan', 'City']\n",
      "['Hello', 'My name is DongMin', 'Good to see you again']\n",
      "['Apple', 'Banana', 'Melon', 'Orange']\n"
     ]
    }
   ],
   "source": [
    "# 1\n",
    "txt = 'Welcome to Busan Metropolitan City'\n",
    "print(txt.split())\n",
    "\n",
    "#2\n",
    "greet = 'Hello,My name is DongMin,Good to see you again'\n",
    "print(greet.split(','))\n",
    "\n",
    "#3\n",
    "fruits = 'Apple|Banana|Melon|Orange'\n",
    "print(fruits.split('|'))"
   ]
  }
 ],
 "metadata": {
  "kernelspec": {
   "display_name": "Python 3.10.6 64-bit",
   "language": "python",
   "name": "python3"
  },
  "language_info": {
   "codemirror_mode": {
    "name": "ipython",
    "version": 3
   },
   "file_extension": ".py",
   "mimetype": "text/x-python",
   "name": "python",
   "nbconvert_exporter": "python",
   "pygments_lexer": "ipython3",
   "version": "3.10.6"
  },
  "orig_nbformat": 4,
  "vscode": {
   "interpreter": {
    "hash": "20c9d94bea3bcd43e69d1e5f02ce962985699c48de0c68502218d203d4c4e41a"
   }
  }
 },
 "nbformat": 4,
 "nbformat_minor": 2
}
