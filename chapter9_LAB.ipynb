{
 "cells": [
  {
   "cell_type": "markdown",
   "metadata": {},
   "source": [
    "# Chapter9 LAB"
   ]
  },
  {
   "cell_type": "markdown",
   "metadata": {},
   "source": [
    "### LAB 9.1 객체와 메소드 호출"
   ]
  },
  {
   "cell_type": "code",
   "execution_count": 3,
   "metadata": {},
   "outputs": [
    {
     "name": "stdout",
     "output_type": "stream",
     "text": [
      "100\n",
      "20000\n",
      "2.0\n",
      "40\n"
     ]
    },
    {
     "data": {
      "text/plain": [
       "['__add__',\n",
       " '__class__',\n",
       " '__class_getitem__',\n",
       " '__contains__',\n",
       " '__delattr__',\n",
       " '__delitem__',\n",
       " '__dir__',\n",
       " '__doc__',\n",
       " '__eq__',\n",
       " '__format__',\n",
       " '__ge__',\n",
       " '__getattribute__',\n",
       " '__getitem__',\n",
       " '__gt__',\n",
       " '__hash__',\n",
       " '__iadd__',\n",
       " '__imul__',\n",
       " '__init__',\n",
       " '__init_subclass__',\n",
       " '__iter__',\n",
       " '__le__',\n",
       " '__len__',\n",
       " '__lt__',\n",
       " '__mul__',\n",
       " '__ne__',\n",
       " '__new__',\n",
       " '__reduce__',\n",
       " '__reduce_ex__',\n",
       " '__repr__',\n",
       " '__reversed__',\n",
       " '__rmul__',\n",
       " '__setattr__',\n",
       " '__setitem__',\n",
       " '__sizeof__',\n",
       " '__str__',\n",
       " '__subclasshook__',\n",
       " 'append',\n",
       " 'clear',\n",
       " 'copy',\n",
       " 'count',\n",
       " 'extend',\n",
       " 'index',\n",
       " 'insert',\n",
       " 'pop',\n",
       " 'remove',\n",
       " 'reverse',\n",
       " 'sort']"
      ]
     },
     "execution_count": 3,
     "metadata": {},
     "output_type": "execute_result"
    }
   ],
   "source": [
    "# 1. 다음 메소드 호출 결과는 무엇인가?\n",
    "print((200).__sub__(100))\n",
    "print((200).__mul__(100))\n",
    "print((200).__truediv__(100))\n",
    "\n",
    "# 2. 다음 메소드 호출 결과는 무엇인가?\n",
    "print([10,20,30,40].pop())\n",
    "\n",
    "# 3. 다음 중 리스트 객체가 호출할 수 없는 메소드는 무엇인가?\n",
    "# print([10,20,30,40].keys())\n",
    "\n",
    "# 4. 다음과 같은 방법으로 int 클래스의 메소드와 속성을 조사하여라.\n",
    "dir(int)\n",
    "\n",
    "# 5. 다음과 같은 방법으로 list 클래스의 메소드와 속성을 조사하라.\n",
    "dir(list)"
   ]
  },
  {
   "cell_type": "markdown",
   "metadata": {},
   "source": [
    "### LAB 9.2\n",
    "1. 다음 용어들을 정의하라\n",
    "- 객체 지향 프로그래밍 : object oriented programming, 프로그램을 실제 세상에 가깝게 모델링하는 기법\n",
    "- 절차적 프로그래밍 : 함수나 모듈을 문제해결 순서에 맞게 호출해 수행하는 기법\n",
    "- 그래픽 사용자 인터페이스 : 다양한 그래픽 요소들을 통해 명령을 내리는 등 작업을 처리한다.\n",
    "\n",
    "2. 객체 지향 프로그래밍 기법과 절차적 기법의 차이점을 기술하라<br>\n",
    ": 절차적 기법은 현실 세계를 모델링 할 때, 그 의미를 변수의 이름에 의존하는데, 정보 사이의 관계를 모델링하기 어렵다. 또한 자료의 값 또는 종류에 따른 함수 호출 문제로 제어구조가 복잡한다."
   ]
  },
  {
   "cell_type": "markdown",
   "metadata": {},
   "source": [
    "### LAB 9.3\n",
    "1. 다음 용어를 정의하여라.\n",
    "- 클래스 : 프로그램 상에서 사용되는 속성과 행위를 모아놓은 집합체\n",
    "- 객체 : 하나의 사물\n",
    "- 인스턴스 : 어떤 클래스에 의해 만들어진 사물\n",
    "- 클래스의 속성 : 각각의 인스턴스들이 개별적으로 가지는 속성을 저장하는 변수\n",
    "- 클래스의 동작 : 클래스 내부에서 정의되어 클래스나 클래스 인스턴스가 사용하는 함수"
   ]
  },
  {
   "cell_type": "markdown",
   "metadata": {},
   "source": [
    "### LAB 9.4\n",
    "1. 다음 기능을 가진 Dog 클래스와 객체를 생성하라."
   ]
  },
  {
   "cell_type": "code",
   "execution_count": 4,
   "metadata": {},
   "outputs": [
    {
     "name": "stdout",
     "output_type": "stream",
     "text": [
      "멍멍~~\n"
     ]
    }
   ],
   "source": [
    "class Dog:\n",
    "    def bark(self):\n",
    "        print(\"멍멍~~\")\n",
    "\n",
    "my_dog = Dog()\n",
    "my_dog.bark()"
   ]
  },
  {
   "cell_type": "markdown",
   "metadata": {},
   "source": [
    "### LAB 9.5\n",
    "1. 다음 기능을 가진 Dog 클래스를 생성하고 인스턴스와 메소드를 호출하여라."
   ]
  },
  {
   "cell_type": "code",
   "execution_count": 5,
   "metadata": {},
   "outputs": [
    {
     "name": "stdout",
     "output_type": "stream",
     "text": [
      "멍멍~~\n"
     ]
    }
   ],
   "source": [
    "class Dog:\n",
    "    def __init__(self, name):\n",
    "        self.name = name\n",
    "    def bark(self):\n",
    "        print(\"멍멍~~\")\n",
    "\n",
    "my_dog = Dog('Jinho')\n",
    "my_dog.bark()"
   ]
  },
  {
   "cell_type": "markdown",
   "metadata": {},
   "source": [
    "### LAB 9.6\n",
    "1. 다음 기능을 가진 Dog 클래스를 생성하고 인스턴스와 메소드를 호출하라."
   ]
  },
  {
   "cell_type": "code",
   "execution_count": 6,
   "metadata": {},
   "outputs": [
    {
     "name": "stdout",
     "output_type": "stream",
     "text": [
      "my_dog의 정보 : Dog(name = Jinho)\n"
     ]
    }
   ],
   "source": [
    "class Dog:\n",
    "    def __init__(self, name):\n",
    "        self.name = name\n",
    "    def __str__(self):\n",
    "        return 'my_dog의 정보 : Dog(name = '+self.name+')'\n",
    "\n",
    "my_dog = Dog('Jinho')\n",
    "print(my_dog)\n",
    "my_dog."
   ]
  },
  {
   "cell_type": "markdown",
   "metadata": {},
   "source": [
    "### LAB 9.7\n",
    "1. 다음 코드의 수행 결과는 무엇인가? 결과를 적고 그 이유를 설명하라."
   ]
  },
  {
   "cell_type": "code",
   "execution_count": 7,
   "metadata": {},
   "outputs": [
    {
     "name": "stdout",
     "output_type": "stream",
     "text": [
      "n is m\n"
     ]
    }
   ],
   "source": [
    "n = 100\n",
    "m = 100\n",
    "if n is m:\n",
    "    print('n is m')\n",
    "else:\n",
    "    print('n is not m')"
   ]
  },
  {
   "cell_type": "markdown",
   "metadata": {},
   "source": [
    "### LAB 9.8"
   ]
  },
  {
   "cell_type": "code",
   "execution_count": 1,
   "metadata": {},
   "outputs": [
    {
     "name": "stdout",
     "output_type": "stream",
     "text": [
      "(1)\n",
      "v1 * v2 = (300, 800)\n",
      "v1 / v2 = (3.0, 2.0)\n",
      "(2)\n",
      "-v1 = (-10, -20)\n"
     ]
    }
   ],
   "source": [
    "class Vector2D:\n",
    "    def __init__(self, x, y):\n",
    "        self.x = x\n",
    "        self.y = y\n",
    "    def __add__(self, other):\n",
    "        return Vector2D(self.x + other.x, self.y + other.y)\n",
    "    def __sub__(self, other):\n",
    "        return Vector2D(self.x - other.x, self.y - other.y)\n",
    "    def __mul__(self, other):\n",
    "        return Vector2D(self.x * other.x, self.y * other.y)\n",
    "    def __truediv__(self, other):\n",
    "        return Vector2D(self.x / other.x, self.y / other.y)\n",
    "    def __str__(self):\n",
    "        return \"({}, {})\".format(self.x, self.y)\n",
    "    def __neg__(self):\n",
    "        return Vector2D(-self.x, -self.y)\n",
    "\n",
    "v1 = Vector2D(30, 40)\n",
    "v2 = Vector2D(10, 20)\n",
    "v3 = v1 * v2\n",
    "print('(1)')\n",
    "print('v1 * v2 =', v3)\n",
    "v4 = v1 / v2\n",
    "print('v1 / v2 =', v4)\n",
    "print('(2)')\n",
    "v1 = Vector2D(10, 20)\n",
    "print('-v1 =', -v1)"
   ]
  },
  {
   "cell_type": "markdown",
   "metadata": {},
   "source": [
    "### LAB 9.9"
   ]
  },
  {
   "cell_type": "markdown",
   "metadata": {},
   "source": [
    "벡터 크기비교 부분이 기억나지 않아 구현을 못하겠습니다 ..."
   ]
  },
  {
   "cell_type": "markdown",
   "metadata": {},
   "source": [
    "### LAB 9.10"
   ]
  },
  {
   "cell_type": "code",
   "execution_count": 15,
   "metadata": {},
   "outputs": [
    {
     "name": "stdout",
     "output_type": "stream",
     "text": [
      "{'width': 100, 'height': 200}\n",
      "100\n"
     ]
    }
   ],
   "source": [
    "# 다음과 같은 코드의 수행 결과는 무엇인가?\n",
    "class Rect:\n",
    "    def __init__(self, width, height):\n",
    "        self.width = width\n",
    "        self.height = height\n",
    "        \n",
    "r1 = Rect(100,200)\n",
    "print(r1.__dict__)\n",
    "print(r1.__dict__['width'])\n"
   ]
  },
  {
   "cell_type": "code",
   "execution_count": 3,
   "metadata": {},
   "outputs": [
    {
     "name": "stdout",
     "output_type": "stream",
     "text": [
      "{'_Rect__width': 100, '_Rect__height': 200}\n",
      "100\n"
     ]
    }
   ],
   "source": [
    "# 다음과 같은 코드의 수행 결과는 무엇인가?\n",
    "class Rect:\n",
    "    def __init__(self, width, height):\n",
    "        self.__width = width\n",
    "        self.__height = height\n",
    "        \n",
    "r1 = Rect(100,200)\n",
    "print(r1.__dict__)\n",
    "print(r1.__dict__['_Rect__width'])"
   ]
  }
 ],
 "metadata": {
  "kernelspec": {
   "display_name": "Python 3.10.6 64-bit",
   "language": "python",
   "name": "python3"
  },
  "language_info": {
   "codemirror_mode": {
    "name": "ipython",
    "version": 3
   },
   "file_extension": ".py",
   "mimetype": "text/x-python",
   "name": "python",
   "nbconvert_exporter": "python",
   "pygments_lexer": "ipython3",
   "version": "3.10.6"
  },
  "orig_nbformat": 4,
  "vscode": {
   "interpreter": {
    "hash": "20c9d94bea3bcd43e69d1e5f02ce962985699c48de0c68502218d203d4c4e41a"
   }
  }
 },
 "nbformat": 4,
 "nbformat_minor": 2
}
